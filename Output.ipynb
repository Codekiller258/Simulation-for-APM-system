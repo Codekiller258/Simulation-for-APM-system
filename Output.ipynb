{
 "cells": [
  {
   "cell_type": "markdown",
   "metadata": {},
   "source": [
    "# Simulation for the current APM system model and the AI-enhanced APM system model\n",
    "\n",
    "This python script outlines a basic Agent-Based Model (ABM) developed using the Mesa framework, designed as the simulation of the current APM system model and the AI-enhanced APM system model.\n",
    "\n",
    "Each models will run 100 times to reduce the level of error, and output the KPIs of interest.\n",
    "\n",
    "Users can change the parameters at the beginning if needed. The original parameters are the data collected from the host company.\n"
   ]
  },
  {
   "cell_type": "code",
   "execution_count": 2,
   "metadata": {},
   "outputs": [
    {
     "data": {
      "application/vnd.jupyter.widget-view+json": {
       "model_id": "24be8aa6e361413d82de32a74b37f347",
       "version_major": 2,
       "version_minor": 0
      },
      "text/plain": [
       "  0%|          | 0/100 [00:00<?, ?it/s]"
      ]
     },
     "metadata": {},
     "output_type": "display_data"
    },
    {
     "name": "stdout",
     "output_type": "stream",
     "text": [
      "Time period 10 years,\n",
      "KPIs for the current APM of manufacturing systems of Company A are:\n",
      "NPV            39913137.609348\n",
      "MTTF                326.939344\n",
      "MTTR                  9.943177\n",
      "Availability          0.956707\n",
      "OEE                   0.727097\n",
      "Downtime           1264.120000\n",
      "dtype: float64\n"
     ]
    },
    {
     "data": {
      "application/vnd.jupyter.widget-view+json": {
       "model_id": "71c02b98667a409bbdb88b0f234295bb",
       "version_major": 2,
       "version_minor": 0
      },
      "text/plain": [
       "  0%|          | 0/100 [00:00<?, ?it/s]"
      ]
     },
     "metadata": {},
     "output_type": "display_data"
    },
    {
     "name": "stdout",
     "output_type": "stream",
     "text": [
      "Time period 10 years,\n",
      "KPIs for the proposed APM of AI-based manufacturing systems of Company A are:\n",
      "NPV            46425643.698541\n",
      "MTTF                995.004493\n",
      "MTTR                  2.616635\n",
      "Availability          0.989092\n",
      "OEE                   0.863478\n",
      "Downtime            318.510000\n",
      "dtype: float64\n"
     ]
    }
   ],
   "source": [
    "from model import OMmodel\n",
    "import matplotlib.pyplot as plt\n",
    "from mesa import batch_run\n",
    "import mesa\n",
    "import pandas as pd\n",
    "import seaborn as sns\n",
    "from agents import PhysicalAsset, Warehouse, Operation_crew, Maintenance_crew, Control_room, SAP,equipment_supplier\n",
    "\n",
    "sorting = 2           # sorting time of warehouse\n",
    "f1 = 700/1000000      # Failure rate from 1-5 and other component\n",
    "f2 = 200/1000000\n",
    "f3 = 300/1000000\n",
    "f4 = 400/1000000\n",
    "f5 = 500/1000000\n",
    "fo = 1000/1000000\n",
    "num_spareparts = 10   # number of spare parts\n",
    "lead_time =3*8        # Lead time of spare parts\n",
    "repair_time = 4       # Repair time needed to do maintenance\n",
    "learning_time = 3     # Learning time for identifying failures\n",
    "planning_time = 2\n",
    "chance_to_find_failure_in_schedule = 0.9       # The chance for current APM system to find failure correcetly\n",
    "maintenance_interval = 2*30*8                 # Maintenance for scheduled maintenance\n",
    "repairtime_scheduledmaintenance = 1*8         # Maintenance time for scheduled maintenance\n",
    "interest_rate = 0.15                          # Interest rate for financial calculation\n",
    "profit_per_product = 10                        # Profit of one product\n",
    "wisdom_level = 0.5                            # Original wisdom level/capbability of AI\n",
    "CAPEX_AI = 500000                             # The cost to impliment AI\n",
    "OPEX_AI = 100000                             # The cost every year for using AI\n",
    "\n",
    "parameters ={\"sorting\":sorting,\"f1\":f1,\"f2\":f2,\"f3\":f3,\n",
    "             \"f4\":f4,\"f5\":f5,\"fo\":fo,\n",
    "             #lead time\n",
    "             \"num_spareparts\":num_spareparts,\"lead_time\":lead_time,\n",
    "             \"learning_time\":learning_time ,\"repair_time\":repair_time,\n",
    "             \"planning_time\":planning_time,\"chance_to_find_failure_in_schedule\":chance_to_find_failure_in_schedule,\n",
    "             \"maintenance_interval\":maintenance_interval,\"repairtime_scheduledmaintenance\":repairtime_scheduledmaintenance,\n",
    "             \"interest_rate\":interest_rate,\n",
    "             \"profit_per_product\":profit_per_product,\n",
    "             }\n",
    "\n",
    "\n",
    "model = OMmodel(seed= None,\n",
    "                 #sorting time(in hours)\n",
    "                 sorting=parameters['sorting'],\n",
    "                 # failure rate of each critical component(in hours)\n",
    "                 f1=parameters['f1'],f2=parameters['f2'],f3=parameters['f3'],\n",
    "                 f4=parameters['f4'],f5=parameters['f5'],fo=parameters['fo'],\n",
    "                 #number of spare parts\n",
    "                 num_spareparts = parameters['num_spareparts'],\n",
    "                 #number of deliver time from equipment supplier to warehouse (in hours)\n",
    "                 lead_time = parameters['lead_time'],\n",
    "                 #Maintenance crews's learning time for failure, repair time, planning time, (in hours) and the chance to find failures\n",
    "                 learning_time = parameters['learning_time'], repair_time = parameters['repair_time'], \n",
    "                 planning_time = parameters['planning_time'], chance_to_find_failure_in_schedule = parameters['chance_to_find_failure_in_schedule'],\n",
    "                 maintenance_interval = parameters['maintenance_interval'], repairtime_scheduledmaintenance = parameters['repairtime_scheduledmaintenance'],\n",
    "                 interest_rate = parameters['interest_rate'],\n",
    "                 profit_per_product=parameters['profit_per_product'],\n",
    "                 )\n",
    "\n",
    "\n",
    "\n",
    "n=100\n",
    "param_sweep = batch_run(OMmodel, parameters, iterations=n, max_steps=10*365*8,data_collection_period=10*365*8,display_progress=True )\n",
    "\n",
    "list=[]\n",
    "for i in range(2*n):\n",
    "    if i % 2 ==0:\n",
    "        list.append(i)\n",
    "\n",
    "param_sweep_df = pd.DataFrame(param_sweep)\n",
    "para_2=param_sweep_df.filter(items=['NPV','MTTF','MTTR','Availability','OEE','Downtime'])\n",
    "para_3=para_2.drop(index=list)\n",
    "para_4=para_3.mean()\n",
    "pd.set_option('display.float_format', lambda x: '%.6f' % x)\n",
    "print('Time period 10 years,')\n",
    "print(\"KPIs for the current APM of manufacturing systems of Company A are:\")\n",
    "print(para_4)\n",
    "\n",
    "from modelAI import OMmodelAI\n",
    "from agentsAI import PhysicalAssetAI, WarehouseAI, MaintenanceAI, UNS, EquipmentAI\n",
    "parametersAI ={\"sorting\":sorting,\"f1\":f1,\"f2\":f2,\"f3\":f3,\n",
    "             \"f4\":f4,\"f5\":f5,\"fo\":fo,\n",
    "             \"num_spareparts\":num_spareparts,\"lead_time\":lead_time,\n",
    "             \"learning_time\":learning_time ,\"repair_time\":repair_time,\n",
    "             \"planning_time\":planning_time,\n",
    "             \n",
    "             \"wisdom_level\":wisdom_level,\"interest_rate\":interest_rate,\n",
    "             \"profit_per_product\":profit_per_product,\n",
    "             \"CAPEX_AI\":CAPEX_AI,\"OPEX_AI\":OPEX_AI}\n",
    "\n",
    "\n",
    "modelAI = OMmodelAI(seed= None,\n",
    "                 #sorting time(in hours)\n",
    "                 sorting=parametersAI['sorting'],\n",
    "                 # failure rate of each component(in hours)\n",
    "                 f1=parametersAI['f1'],f2=parametersAI['f2'],f3=parametersAI['f3'],\n",
    "                 f4=parametersAI['f4'],f5=parametersAI['f5'],fo=parametersAI['fo'],\n",
    "                 #number of spare parts\n",
    "                 num_spareparts = parametersAI['num_spareparts'],\n",
    "                 #number of deliver time from equipment supplier to warehouse (in hours)\n",
    "                 lead_time = parametersAI['lead_time'],\n",
    "                 #Maintenance crews's learning time for failure, repair time, planning time, (in hours) and the chance to find failures\n",
    "                 wisdom_level = parametersAI['wisdom_level'],\n",
    "                 learning_time = parametersAI['learning_time'], repair_time = parametersAI['repair_time'], \n",
    "                 planning_time = parametersAI['planning_time'],\n",
    "                 interest_rate = parametersAI['interest_rate'],profit_per_product=parametersAI['profit_per_product'],\n",
    "                 CAPEX_AI=parametersAI['CAPEX_AI'],OPEX_AI=parametersAI['OPEX_AI']\n",
    "                 )\n",
    "\n",
    "m=100\n",
    "AIparam_sweep = batch_run(OMmodelAI, parametersAI, iterations=m, max_steps=10*365*8,data_collection_period=10*365*8,display_progress=True )\n",
    "\n",
    "list=[]\n",
    "for j in range(2*m):\n",
    "    if j % 2 ==0:\n",
    "        list.append(j)\n",
    "\n",
    "AIparam_sweep_df = pd.DataFrame(AIparam_sweep)\n",
    "para_2AI=AIparam_sweep_df.filter(items=['NPV','MTTF','MTTR','Availability','OEE','Downtime'])\n",
    "para_3AI=para_2AI.drop(index=list)\n",
    "para_4AI=para_3AI.mean()\n",
    "pd.set_option('display.float_format', lambda x: '%.6f' % x)\n",
    "print('Time period 10 years,')\n",
    "print(\"KPIs for the proposed APM of AI-based manufacturing systems of Company A are:\")\n",
    "print(para_4AI)"
   ]
  }
 ],
 "metadata": {
  "kernelspec": {
   "display_name": "base",
   "language": "python",
   "name": "python3"
  },
  "language_info": {
   "codemirror_mode": {
    "name": "ipython",
    "version": 3
   },
   "file_extension": ".py",
   "mimetype": "text/x-python",
   "name": "python",
   "nbconvert_exporter": "python",
   "pygments_lexer": "ipython3",
   "version": "3.9.12"
  }
 },
 "nbformat": 4,
 "nbformat_minor": 2
}
